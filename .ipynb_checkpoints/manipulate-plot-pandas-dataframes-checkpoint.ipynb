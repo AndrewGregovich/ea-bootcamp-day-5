{
 "cells": [
  {
   "cell_type": "markdown",
   "metadata": {},
   "source": [
    "## Methods and Attributes\n",
    "\n",
    "### Methods\n",
    "Previous lessons have introduced the concept of functions as commands that can take inputs that are used to produce output. For example, you have used many functions, including the `print()` function to display the results of your code and to write messages about the results. \n",
    "\n",
    "```python\n",
    "print(\"Message as text string goes here\")\n",
    "```\n",
    "You have also used functions provided by `Python` packages such as `numpy` to run calculations on `numpy arrays`. \n",
    "\n",
    "For example, you used `np.mean()` to calculate the average value of specified `numpy array`. In these `numpy` functions, you explicitly provided the name of the variable as an input parameter.    \n",
    "\n",
    "```python\n",
    "print(\"Mean Value: \", np.mean(arrayname))\n",
    "```\n",
    "\n",
    "In `Python`, data structures, such as `pandas dataframes`, can provide built-in functions that are referred to as methods. Each data structure has its own set of methods, based on how the data is organized and the types of operations supported by the data structure . \n",
    "\n",
    "A method can be called by adding the `.function()` after the name of the data structure (e.g. `structurename.function()`), rather than providing the name as an input parameter (e.g. `function(structurename)`). \n",
    "\n",
    "In this lesson, you will explore some methods that are provided with the `pandas dataframe` data structure. \n",
    "\n",
    "### Attributes\n",
    "\n",
    "In addition to functions, you have also unknowingly worked with attributes, which are automatically created characteristics (i.e. metadata) about the data structure or object that you are working with. \n",
    "\n",
    "For example, you used `.shape` to get the dimensions of a specific `numpy array` (e.g. `arrayname.shape`), which is an attribute that is automatically generated about the `numpy array` when it is created.\n",
    "\n",
    "In this lesson, you will use attributes to get more information about `pandas dataframes` and run functions (i.e. methods) inherent to the `pandas dataframes` data structure to learn about the benefits of working with `pandas dataframes`.\n",
    "\n",
    "\n",
    "## Begin Writing Your Code\n",
    "\n",
    "From previous lessons, you know how to import the necessary `Python` packages to set your working directory and download the needed datasets using the `os` and `urllib` packages. \n",
    "\n",
    "To work with `pandas dataframes`, you will also need to import the `pandas` package with the alias `pd`, and you will need to import the `matplotlib.pyplot` module with the alias `plt` to plot data. Begin by reviewing these tasks.\n",
    "\n",
    "### Import Packages"
   ]
  },
  {
   "cell_type": "code",
   "execution_count": null,
   "metadata": {},
   "outputs": [],
   "source": [
    "# import necessary Python packages\n",
    "import os\n",
    "import urllib.request\n",
    "import pandas as pd\n",
    "import matplotlib.pyplot as plt\n",
    "\n",
    "# print message after packages imported successfully\n",
    "print(\"import of packages successful\")"
   ]
  },
  {
   "cell_type": "markdown",
   "metadata": {},
   "source": [
    "### Set Working Directory\n",
    "\n",
    "Remember that you can check the current working directory using `os.getcwd()` and set the current working directory using `os.chdir()`."
   ]
  },
  {
   "cell_type": "code",
   "execution_count": null,
   "metadata": {},
   "outputs": [],
   "source": [
    "# set the working directory to the `earth-analytics-bootcamp` directory\n",
    "# replace `jpalomino` with your username here and all paths in this lesson\n",
    "os.chdir(\"/home/jpalomino/earth-analytics-bootcamp/\")\n",
    "\n",
    "#For Windows users, you may have to set the directory using the full path that Windows maintains for your user. For example:\n",
    "#os.chdir(\"C:/Users/Jenny Palomino/earth-analytics-bootcamp/\")\n",
    "\n",
    "#For Mac Users, you may have to set the directory using the full path that Mac maintains for your user. For example:\n",
    "#os.chdir(\"/Users/jpalomino/earth-analytics-bootcamp/\")\n",
    "\n",
    "# print the current working directory\n",
    "os.getcwd()"
   ]
  },
  {
   "cell_type": "markdown",
   "metadata": {},
   "source": [
    "### Download Data\n",
    "\n",
    "Recall that you can use the `urllib` package to download data from the Earth Lab `Figshare.com` repository.\n",
    "\n",
    "For this lesson, you will download a .csv file containing the average monthly precipitation data for Boulder, CO, and another .csv file containing monthly precipitation for Boulder, CO in 2002 and 2013."
   ]
  },
  {
   "cell_type": "code",
   "execution_count": null,
   "metadata": {},
   "outputs": [],
   "source": [
    "# use `urllib` download files from Earth Lab figshare repository\n",
    "\n",
    "# download .csv containing monthly average precipitation for Boulder, CO\n",
    "urllib.request.urlretrieve(url = \"https://ndownloader.figshare.com/files/12710618\", \n",
    "                           filename = \"data/avg-precip-months-seasons.csv\")\n",
    "\n",
    "# download .csv containing monthly precipitation for Boulder, CO in 2002 and 2013\n",
    "urllib.request.urlretrieve(url = \"https://ndownloader.figshare.com/files/12710621\", \n",
    "                           filename = \"data/precip-2002-2013-months-seasons.csv\")\n",
    "\n",
    "# print message that data downloads were successful\n",
    "print(\"datasets downloaded successfully\")"
   ]
  },
  {
   "cell_type": "markdown",
   "metadata": {},
   "source": [
    "### Import Tabular Data Into Pandas Dataframes\n",
    "\n",
    "You also learned how to import CSV files into `pandas dataframes`."
   ]
  },
  {
   "cell_type": "code",
   "execution_count": null,
   "metadata": {},
   "outputs": [],
   "source": [
    "# import the monthly average precipitation values as a pandas dataframe\n",
    "avg_precip = pd.read_csv(\"/home/jpalomino/earth-analytics-bootcamp/data/avg-precip-months-seasons.csv\")\n",
    "\n",
    "# import the monthly precipitation values in 2002 and 2013 as a pandas dataframe\n",
    "precip_2002_2013 = pd.read_csv(\"/home/jpalomino/earth-analytics-bootcamp/data/precip-2002-2013-months-seasons.csv\")"
   ]
  },
  {
   "cell_type": "markdown",
   "metadata": {},
   "source": [
    "## View Contents of Pandas Dataframes\n",
    "\n",
    "Rather than seeing all of the data at once, you can choose to see the first few rows or the last few rows using the `pandas dataframe` methods `.head()` or `.tail()` (e.g. `dataframe.tail()`). \n",
    "\n",
    "This capability can be very useful for large datasets which cannot easily be displayed within `Jupyter Notebook`. "
   ]
  },
  {
   "cell_type": "code",
   "execution_count": null,
   "metadata": {},
   "outputs": [],
   "source": [
    "# check the first few rows in `avg_precip`\n",
    "avg_precip.head()"
   ]
  },
  {
   "cell_type": "markdown",
   "metadata": {},
   "source": [
    "## Describe Contents of Pandas Dataframes\n",
    "\n",
    "You can use the method `.info()` to get more details, or metadata, about a `pandas dataframe` (e.g. `dataframe.info()`) such as the number of rows and columns and the column names. "
   ]
  },
  {
   "cell_type": "code",
   "execution_count": null,
   "metadata": {},
   "outputs": [],
   "source": [
    "# check the metadata about `avg_precip`\n",
    "avg_precip.info()"
   ]
  },
  {
   "cell_type": "markdown",
   "metadata": {},
   "source": [
    "The output of the `.info()` method shows you the number of rows (or entries) and the number of columns, as well as the columns names and the types of data they contain (e.g. float64 which is the default decimal type in `Python`).\n",
    "\n",
    "You can use other methods to produce summarized results about data values contained within the `pandas dataframes`.\n",
    "\n",
    "For example, you can use the method `.describe()` to run summary statistics about the numeric columns in `pandas dataframe` (e.g. `dataframe.describe()`), such as the count, mean, minimum and maximum values. "
   ]
  },
  {
   "cell_type": "code",
   "execution_count": null,
   "metadata": {},
   "outputs": [],
   "source": [
    "# run summary statistics on `avg_precip`\n",
    "avg_precip.describe()"
   ]
  },
  {
   "cell_type": "markdown",
   "metadata": {},
   "source": [
    "Recall that in the lessons on `numpy arrays`, you ran multiple functions to get the mean, minimum and maximum values of `numpy arrays`. This fast calculation of summary statistics is a clear benefit of using `pandas dataframes` over `numpy arrays`.\n",
    "\n",
    "The `.describe()` method also provides the standard deviation (i.e. a measure of the amount of variation across the data) as well as the quantiles of the `pandas dataframe`, which tell us how the data are distributed between the minimum and maximum values (e.g. the 25% quantile indicates the cut-off for the lowest 25% values in the data).\n",
    "\n",
    "## Sort Data Values in Pandas Dataframes\n",
    "\n",
    "Recall that in the lessons on `numpy arrays`, you can only identify the value that is the minimum or maximum, but not the month in which the value occurred. This is because `precip` and `months` are not connected in an easy way that would allow you to determine the month that matches the values. \n",
    "\n",
    "Using `pandas dataframes`, you can sort the values with the method `.sort_values()`, providing the column name and a parameter for `ascending` (e.g. `dataframe.sort_values(by=\"columname\", ascending = True)`). \n",
    "\n",
    "Sort by the values in the `precip` column in descending order (`ascending = False`) to find the maximum value and its corresponding month. "
   ]
  },
  {
   "cell_type": "code",
   "execution_count": null,
   "metadata": {},
   "outputs": [],
   "source": [
    "# sort values in descending order to identify the month with maximum value for `precip` within `precip_df`\n",
    "avg_precip.sort_values(by=\"precip\", ascending = False)"
   ]
  },
  {
   "cell_type": "markdown",
   "metadata": {},
   "source": [
    "## Run Calculations on Columns Within Pandas Dataframes\n",
    "\n",
    "You can easily recalculate the values of a column within a `pandas dataframe` setting the column equal to the result of the desired calculation (e.g. `dataframe.column = dataframe.column + 4`, which would add the number 4 to each value in the column).\n",
    "\n",
    "You can use this capability to easily convert the values in the `precip` column from inches to millimeters (where one inch is equal to 25.4 millimeters). "
   ]
  },
  {
   "cell_type": "code",
   "execution_count": null,
   "metadata": {},
   "outputs": [],
   "source": [
    "# multiply the values in `precip` column to convert from inches to millimeters\n",
    "avg_precip.precip = avg_precip.precip * 25.4\n",
    "\n",
    "# print the values in `avg_precip`\n",
    "avg_precip"
   ]
  },
  {
   "cell_type": "markdown",
   "metadata": {},
   "source": [
    "## Plot Pandas Dataframes\n",
    "\n",
    "In the previous lessons, you saw that it is easy to use multiple `numpy arrays` within the same plot but you have to make sure that the dimensions of the `numpy arrays` are compatible. \n",
    "\n",
    "`Pandas dataframes` make it even easier to plot the data because the tabular structure is already built-in. \n",
    "\n",
    "In fact, you do not have to create any new variables to plot data from `pandas dataframes`.\n",
    "\n",
    "You can simply reuse your `matplotlib.pyplot` code from the `numpy arrays` lesson, using the dataframe and column names to plot data (e.g. `dataframe.column`) along each axis. "
   ]
  },
  {
   "cell_type": "code",
   "execution_count": null,
   "metadata": {
    "caption": "This plot displays a bar plot created from a pandas dataframe for average monthly precipitation for Boulder, CO.",
    "label": "fig:barplot_pandas"
   },
   "outputs": [],
   "source": [
    "# set plot size for all plots that follow\n",
    "plt.rcParams[\"figure.figsize\"] = (8, 8)\n",
    "\n",
    "# create the plot space upon which to plot the data\n",
    "fig, ax = plt.subplots()\n",
    "\n",
    "# add the x-axis and the y-axis to the plot\n",
    "ax.bar(avg_precip.months, avg_precip.precip, color=\"grey\")\n",
    "\n",
    "# set plot title\n",
    "ax.set(title=\"Average Monthly Precipitation in Boulder, CO\")\n",
    "\n",
    "# add labels to the axes\n",
    "ax.set(xlabel=\"Month\", ylabel=\"Precipitation (mm)\");"
   ]
  },
  {
   "cell_type": "markdown",
   "metadata": {},
   "source": [
    "Congratulations! You have now learned how to run methods and query attributes of `pandas dataframes`. You also recalculated values and created plots from `pandas dataframes`."
   ]
  },
  {
   "cell_type": "markdown",
   "metadata": {},
   "source": [
    "## Optional Challenge 1\n",
    "\n",
    "Test your `Python` skills to:\n",
    "\n",
    "1. Convert the `precip_2002` column in `precip_2002_2013` to millimeters (one inch = 25.4 millimeters).\n",
    "\n",
    "2. Create a **blue line plot** of monthly precipitation for Boulder, CO in 2002. \n",
    "    * Be sure to include a title and labels for the axes. \n",
    "    * If needed, refer to the lesson on Plot Data in Python with Matplotlib."
   ]
  },
  {
   "cell_type": "markdown",
   "metadata": {},
   "source": [
    "## Optional Challenge 2\n",
    "\n",
    "Test your `Python` skills to:\n",
    "\n",
    "1. Convert the `precip_2013` column in `precip_2002_2013` to millimeters (one inch = 25.4 millimeters).\n",
    "\n",
    "2. Create a **blue scatter plot** of monthly precipitation for Boulder, CO in 2013. \n",
    "    * Be sure to include a title and labels for the axes. \n",
    "\n",
    "3. Compare your plot for 2013 to the one for 2002. \n",
    "    * Does the maximum precipitation occur in the same month? \n",
    "    * What do you notice about the y-axis of the 2013, as compared to the 2002 plot?"
   ]
  },
  {
   "cell_type": "code",
   "execution_count": null,
   "metadata": {},
   "outputs": [],
   "source": []
  }
 ],
 "metadata": {
  "celltoolbar": "Edit Metadata",
  "kernelspec": {
   "display_name": "Python [default]",
   "language": "python",
   "name": "python3"
  },
  "language_info": {
   "codemirror_mode": {
    "name": "ipython",
    "version": 3
   },
   "file_extension": ".py",
   "mimetype": "text/x-python",
   "name": "python",
   "nbconvert_exporter": "python",
   "pygments_lexer": "ipython3",
   "version": "3.6.5"
  }
 },
 "nbformat": 4,
 "nbformat_minor": 2
}
